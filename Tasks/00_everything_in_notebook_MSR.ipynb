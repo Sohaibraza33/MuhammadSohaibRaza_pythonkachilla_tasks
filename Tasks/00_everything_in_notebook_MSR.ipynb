{
 "cells": [
  {
   "attachments": {},
   "cell_type": "markdown",
   "metadata": {},
   "source": [
    "# Participant\n",
    "Tile = \"Engineer\"\\\n",
    "Name= \"Muhammad Sohaib Raza\"\\\n",
    "Email = \"sohaibraza33@gmail.com\"\\\n",
    "WhatsApp = \"+923027877529\""
   ]
  }
 ],
 "metadata": {
  "kernelspec": {
   "display_name": "Python 3",
   "language": "python",
   "name": "python3"
  },
  "language_info": {
   "name": "python",
   "version": "3.11.1 (tags/v3.11.1:a7a450f, Dec  6 2022, 19:58:39) [MSC v.1934 64 bit (AMD64)]"
  },
  "orig_nbformat": 4,
  "vscode": {
   "interpreter": {
    "hash": "5396551675ecaaa47db983025ad30fd73322b19c8fb5277a011403f813408c06"
   }
  }
 },
 "nbformat": 4,
 "nbformat_minor": 2
}
