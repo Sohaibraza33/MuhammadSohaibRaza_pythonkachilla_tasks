{
 "cells": [
  {
   "attachments": {},
   "cell_type": "markdown",
   "metadata": {},
   "source": [
    "# Participant\n",
    "Tile = \"Engineer\"\\\n",
    "Name= \"Muhammad Sohaib Raza\"\\\n",
    "Email = \"sohaibraza33@gmail.com\"\\\n",
    "WhatsApp = \"+923027877529\""
   ]
  }
 ],
 "metadata": {
  "language_info": {
   "name": "python"
  },
  "orig_nbformat": 4
 },
 "nbformat": 4,
 "nbformat_minor": 2
}
